{
    "metadata": {
        "kernelspec": {
            "name": "SQL",
            "display_name": "SQL",
            "language": "sql"
        },
        "language_info": {
            "name": "sql",
            "version": ""
        }
    },
    "nbformat_minor": 2,
    "nbformat": 4,
    "cells": [
        {
            "cell_type": "code",
            "source": [
                "select top 5 * from movie_gross"
            ],
            "metadata": {
                "azdata_cell_guid": "1f4ee8e7-b21e-44c8-abb5-1f6b0effb438",
                "language": "sql"
            },
            "outputs": [
                {
                    "output_type": "display_data",
                    "data": {
                        "text/html": "(5 rows affected)"
                    },
                    "metadata": {}
                },
                {
                    "output_type": "display_data",
                    "data": {
                        "text/html": "Total execution time: 00:00:00.008"
                    },
                    "metadata": {}
                },
                {
                    "output_type": "execute_result",
                    "metadata": {},
                    "execution_count": 29,
                    "data": {
                        "application/vnd.dataresource+json": {
                            "schema": {
                                "fields": [
                                    {
                                        "name": "movie_title"
                                    },
                                    {
                                        "name": "release_date"
                                    },
                                    {
                                        "name": "genre"
                                    },
                                    {
                                        "name": "mpaa_rating"
                                    },
                                    {
                                        "name": "total_gross"
                                    },
                                    {
                                        "name": "inflation_adjusted_gross"
                                    }
                                ]
                            },
                            "data": [
                                {
                                    "0": "Snow White and the Seven Dwarfs",
                                    "1": "2480-12-21",
                                    "2": "Musical",
                                    "3": "G",
                                    "4": "184925485",
                                    "5": "5228953251"
                                },
                                {
                                    "0": "Pinocchio",
                                    "1": "2483-02-09",
                                    "2": "Adventure",
                                    "3": "G",
                                    "4": "84300000",
                                    "5": "2188229052"
                                },
                                {
                                    "0": "Fantasia",
                                    "1": "2483-11-13",
                                    "2": "Musical",
                                    "3": "G",
                                    "4": "83320000",
                                    "5": "2187090808"
                                },
                                {
                                    "0": "Song of the South",
                                    "1": "2489-11-12",
                                    "2": "Adventure",
                                    "3": "G",
                                    "4": "65000000",
                                    "5": "1078510579"
                                },
                                {
                                    "0": "Cinderella",
                                    "1": "2493-02-15",
                                    "2": "Drama",
                                    "3": "G",
                                    "4": "85000000",
                                    "5": "920608730"
                                }
                            ]
                        },
                        "text/html": [
                            "<table>",
                            "<tr><th>movie_title</th><th>release_date</th><th>genre</th><th>mpaa_rating</th><th>total_gross</th><th>inflation_adjusted_gross</th></tr>",
                            "<tr><td>Snow White and the Seven Dwarfs</td><td>2480-12-21</td><td>Musical</td><td>G</td><td>184925485</td><td>5228953251</td></tr>",
                            "<tr><td>Pinocchio</td><td>2483-02-09</td><td>Adventure</td><td>G</td><td>84300000</td><td>2188229052</td></tr>",
                            "<tr><td>Fantasia</td><td>2483-11-13</td><td>Musical</td><td>G</td><td>83320000</td><td>2187090808</td></tr>",
                            "<tr><td>Song of the South</td><td>2489-11-12</td><td>Adventure</td><td>G</td><td>65000000</td><td>1078510579</td></tr>",
                            "<tr><td>Cinderella</td><td>2493-02-15</td><td>Drama</td><td>G</td><td>85000000</td><td>920608730</td></tr>",
                            "</table>"
                        ]
                    }
                }
            ],
            "execution_count": 29
        },
        {
            "cell_type": "code",
            "source": [
                "select top 5 movie_title, format(inflation_adjusted_gross,'n0') [USD],\r\n",
                "inflation_adjusted_gross * 33.0 [THB]\r\n",
                "--format(inflation_adjusted_gross,'n0') * 33.0 [THB]\r\n",
                "from movie_gross"
            ],
            "metadata": {
                "azdata_cell_guid": "904bbdf7-3bec-4e49-b971-fd65027535bf",
                "language": "sql",
                "tags": []
            },
            "outputs": [
                {
                    "output_type": "display_data",
                    "data": {
                        "text/html": "(5 rows affected)"
                    },
                    "metadata": {}
                },
                {
                    "output_type": "display_data",
                    "data": {
                        "text/html": "Total execution time: 00:00:00.003"
                    },
                    "metadata": {}
                },
                {
                    "output_type": "execute_result",
                    "metadata": {},
                    "execution_count": 28,
                    "data": {
                        "application/vnd.dataresource+json": {
                            "schema": {
                                "fields": [
                                    {
                                        "name": "movie_title"
                                    },
                                    {
                                        "name": "USD"
                                    },
                                    {
                                        "name": "THB"
                                    }
                                ]
                            },
                            "data": [
                                {
                                    "0": "Snow White and the Seven Dwarfs",
                                    "1": "5,228,953,251",
                                    "2": "172555457283.0"
                                },
                                {
                                    "0": "Pinocchio",
                                    "1": "2,188,229,052",
                                    "2": "72211558716.0"
                                },
                                {
                                    "0": "Fantasia",
                                    "1": "2,187,090,808",
                                    "2": "72173996664.0"
                                },
                                {
                                    "0": "Song of the South",
                                    "1": "1,078,510,579",
                                    "2": "35590849107.0"
                                },
                                {
                                    "0": "Cinderella",
                                    "1": "920,608,730",
                                    "2": "30380088090.0"
                                }
                            ]
                        },
                        "text/html": [
                            "<table>",
                            "<tr><th>movie_title</th><th>USD</th><th>THB</th></tr>",
                            "<tr><td>Snow White and the Seven Dwarfs</td><td>5,228,953,251</td><td>172555457283.0</td></tr>",
                            "<tr><td>Pinocchio</td><td>2,188,229,052</td><td>72211558716.0</td></tr>",
                            "<tr><td>Fantasia</td><td>2,187,090,808</td><td>72173996664.0</td></tr>",
                            "<tr><td>Song of the South</td><td>1,078,510,579</td><td>35590849107.0</td></tr>",
                            "<tr><td>Cinderella</td><td>920,608,730</td><td>30380088090.0</td></tr>",
                            "</table>"
                        ]
                    }
                }
            ],
            "execution_count": 28
        },
        {
            "cell_type": "code",
            "source": [
                "--select 1+2, 1-2, 1*2, 1/2, 1.0/2.0  -- Math Operation สามารถรันได้เลยโดยไม่ต้องมี format ตาราง \r\n",
                "                                    --สำหรับการหารควรใช้เป็นเลขทศนิยม (decimal) เพื่อให้ได้ค่าที่ถูกต้อง หากใช้เป็นจำนวนเต็ม (integer) จะได้ผลลัพท์แบบปัดเศษเป็นจำนวนเต็มเสมอ\r\n",
                "--select 2+3-4*6/2.0 -- คำนวณจากหาร > คูณ > บวก > ลบ ตามลำดับ ควรจะเขียนสมการโดยใช้วงเล็บคั่น เพื่อให้ทำในวงเล็บก่อนและลดความสับสนได้\r\n",
                "--select 10%4 -- % เป็นการหารเพื่อแสดงค่าเศษเท่านั้น หากได้ 0 หมายถึง หารเลขลงตัว\r\n",
                "--select power(2, 3) -- ฟังก์ชั่นยกกำลัง ตัวอย่างคือ 2 ยกกำลัง 3\r\n",
                "--select sqrt(2) -- ฟังก์ชั่น squre root\r\n",
                "--select pi() -- ฟังก์ชั่นค่า Pi\r\n",
                "--select log(8) / log(2) -- ฟังก์ชั่นการหาค่า n จากสมการยกกำลัง ตัวอย่างคือ 2^n = 8\r\n",
                ""
            ],
            "metadata": {
                "azdata_cell_guid": "59260b28-7842-40c8-ad85-1a499c2f1f74",
                "language": "sql",
                "tags": []
            },
            "outputs": [
                {
                    "output_type": "display_data",
                    "data": {
                        "text/html": "Commands completed successfully."
                    },
                    "metadata": {}
                },
                {
                    "output_type": "display_data",
                    "data": {
                        "text/html": "Total execution time: 00:00:00"
                    },
                    "metadata": {}
                }
            ],
            "execution_count": 27
        },
        {
            "cell_type": "code",
            "source": [
                ""
            ],
            "metadata": {
                "azdata_cell_guid": "fcd2de14-b9e7-4616-9c11-5f00039f0ede",
                "language": "sql"
            },
            "outputs": [],
            "execution_count": null
        }
    ]
}